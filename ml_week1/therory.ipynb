{
 "cells": [
  {
   "cell_type": "markdown",
   "id": "845f804a",
   "metadata": {},
   "source": [
    "Q1 : What is the difference between supervised and unsupervised learning?"
   ]
  },
  {
   "cell_type": "code",
   "execution_count": 2,
   "id": "17ac78ec",
   "metadata": {},
   "outputs": [
    {
     "data": {
      "text/plain": [
       "'\\nDefinition: Unsupervised learning deals with unlabeled data. The model tries to learn the underlying structure or distribution in the data without explicit instructions.\\u200b\\n\\nKey Characteristics:\\n\\nUnlabeled Data: Works with data that has no predefined labels or categories.\\n\\nObjective: Discover hidden patterns, groupings, or features in the data.\\n\\nCommon Algorithms: K-means clustering, hierarchical clustering, principal component analysis (PCA), autoencoders.\\u200b\\n\\nExamples:\\n\\nCustomer Segmentation: Group customers based on purchasing behavior without predefined categories.\\n\\nAnomaly Detection: Identify unusual patterns or outliers in data, such as fraudulent transactions.\\n\\nMarket Basket Analysis: Discover associations between products bought together.\\u200b\\n'"
      ]
     },
     "execution_count": 2,
     "metadata": {},
     "output_type": "execute_result"
    }
   ],
   "source": [
    "#📘 Supervised Learning\n",
    "'''Definition: Supervised learning involves training a model on a labeled dataset, where each input is paired with the correct output. The model learns to predict the output from the input data.​\n",
    "\n",
    "Key Characteristics:\n",
    "\n",
    "Labeled Data: Requires a dataset with input-output pairs.\n",
    "\n",
    "Objective: Learn a mapping from inputs to outputs to make accurate predictions on new, unseen data.\n",
    "\n",
    "Common Algorithms: Linear regression, logistic regression, decision trees, support vector machines, neural networks.​\n",
    "Wikipedia\n",
    "\n",
    "Examples:\n",
    "\n",
    "Email Spam Detection: Classify emails as 'spam' or 'not spam' based on labeled examples.\n",
    "\n",
    "Medical Diagnosis: Predict disease presence from patient data with known diagnoses.\n",
    "\n",
    "Credit Scoring: Assess loan applicants' creditworthiness using historical data with known outcomes '''\n",
    "\n",
    "\n",
    "# 📙 Unsupervised Learning\n",
    "'''\n",
    "Definition: Unsupervised learning deals with unlabeled data. The model tries to learn the underlying structure or distribution in the data without explicit instructions.​\n",
    "\n",
    "Key Characteristics:\n",
    "\n",
    "Unlabeled Data: Works with data that has no predefined labels or categories.\n",
    "\n",
    "Objective: Discover hidden patterns, groupings, or features in the data.\n",
    "\n",
    "Common Algorithms: K-means clustering, hierarchical clustering, principal component analysis (PCA), autoencoders.​\n",
    "\n",
    "Examples:\n",
    "\n",
    "Customer Segmentation: Group customers based on purchasing behavior without predefined categories.\n",
    "\n",
    "Anomaly Detection: Identify unusual patterns or outliers in data, such as fraudulent transactions.\n",
    "\n",
    "Market Basket Analysis: Discover associations between products bought together.​\n",
    "'''\n"
   ]
  },
  {
   "cell_type": "markdown",
   "id": "db72a4c3",
   "metadata": {},
   "source": [
    "What is overfitting? How can you prevent it?"
   ]
  },
  {
   "cell_type": "code",
   "execution_count": null,
   "id": "b3d137fb",
   "metadata": {},
   "outputs": [],
   "source": [
    "'''\n",
    "In overfitting, a model achieves high accuracy on training data but fails to perform well on validation or test data. This indicates that the model has memorized the training data rather than learning the underlying patterns, resulting in low bias but high variance \n",
    "Stack Overflow\n",
    ".​\n",
    "\n",
    "✅ How to Prevent Overfitting\n",
    "To mitigate overfitting, consider the following strategies:\n",
    "\n",
    "Cross-Validation: Use techniques like k-fold cross-validation to assess model performance on different subsets of data, ensuring it generalizes well .​\n",
    "EliteDataScience\n",
    "\n",
    "Regularization: Apply penalties to model complexity through methods like L1 (Lasso) and L2 (Ridge) regularization, which discourage overly complex models .​\n",
    "\n",
    "Early Stopping: Monitor the model's performance on a validation set during training and halt training when performance begins to degrade, preventing the model from learning noise .​\n",
    "V7\n",
    "\n",
    "Simplify the Model: Reduce the number of features or parameters to decrease model complexity, making it less likely to overfit .​\n",
    "\n",
    "Increase Training Data: Providing more diverse and representative data can help the model learn general patterns rather than memorizing the training set .​\n",
    "\n",
    "Data Augmentation: For tasks like image recognition, augmenting data by applying transformations (e.g., rotations, scaling) can increase dataset diversity without collecting new data .​\n",
    "\n",
    "Dropout: In neural networks, randomly dropping units during training prevents units from co-adapting too much, promoting robustness .​\n",
    "Wikipedia\n",
    "\n",
    "Pruning: Remove parts of the model that contribute little to output, reducing complexity and overfitting risk .​\n",
    "'''"
   ]
  },
  {
   "cell_type": "markdown",
   "id": "f47f420e",
   "metadata": {},
   "source": []
  }
 ],
 "metadata": {
  "kernelspec": {
   "display_name": "Python 3",
   "language": "python",
   "name": "python3"
  },
  "language_info": {
   "codemirror_mode": {
    "name": "ipython",
    "version": 3
   },
   "file_extension": ".py",
   "mimetype": "text/x-python",
   "name": "python",
   "nbconvert_exporter": "python",
   "pygments_lexer": "ipython3",
   "version": "3.11.3"
  }
 },
 "nbformat": 4,
 "nbformat_minor": 5
}
