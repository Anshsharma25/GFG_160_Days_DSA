{
 "cells": [
  {
   "cell_type": "code",
   "execution_count": 5,
   "id": "21c338e1",
   "metadata": {},
   "outputs": [
    {
     "name": "stdout",
     "output_type": "stream",
     "text": [
      "Original DataFrame:\n",
      "      Name   Age   Salary\n",
      "0    Alice  25.0  50000.0\n",
      "1      Bob   NaN  60000.0\n",
      "2  Charlie  30.0      NaN\n",
      "3    David   NaN  80000.0\n",
      "4      Eva  45.0      NaN\n",
      "Mean Age: 33.333333333333336\n",
      "Median Salary: 60000.0\n",
      "      Name        Age   Salary\n",
      "0    Alice  25.000000  50000.0\n",
      "1      Bob  33.333333  60000.0\n",
      "2  Charlie  30.000000  60000.0\n",
      "3    David  33.333333  80000.0\n",
      "4      Eva  45.000000  60000.0\n"
     ]
    },
    {
     "name": "stderr",
     "output_type": "stream",
     "text": [
      "C:\\Users\\HP\\AppData\\Local\\Temp\\ipykernel_20948\\686281111.py:18: FutureWarning: A value is trying to be set on a copy of a DataFrame or Series through chained assignment using an inplace method.\n",
      "The behavior will change in pandas 3.0. This inplace method will never work because the intermediate object on which we are setting values always behaves as a copy.\n",
      "\n",
      "For example, when doing 'df[col].method(value, inplace=True)', try using 'df.method({col: value}, inplace=True)' or df[col] = df[col].method(value) instead, to perform the operation inplace on the original object.\n",
      "\n",
      "\n",
      "  df['Age'].fillna(mean, inplace=True)\n",
      "C:\\Users\\HP\\AppData\\Local\\Temp\\ipykernel_20948\\686281111.py:24: FutureWarning: A value is trying to be set on a copy of a DataFrame or Series through chained assignment using an inplace method.\n",
      "The behavior will change in pandas 3.0. This inplace method will never work because the intermediate object on which we are setting values always behaves as a copy.\n",
      "\n",
      "For example, when doing 'df[col].method(value, inplace=True)', try using 'df.method({col: value}, inplace=True)' or df[col] = df[col].method(value) instead, to perform the operation inplace on the original object.\n",
      "\n",
      "\n",
      "  df['Salary'].fillna(medain, inplace=True)\n"
     ]
    }
   ],
   "source": [
    "import pandas as pd\n",
    "import numpy as np\n",
    "\n",
    "# Sample dataset with missing values\n",
    "data = {\n",
    "    'Name': ['Alice', 'Bob', 'Charlie', 'David', 'Eva'],\n",
    "    'Age': [25, np.nan, 30, np.nan, 45],\n",
    "    'Salary': [50000, 60000, np.nan, 80000, np.nan]\n",
    "}\n",
    "\n",
    "df = pd.DataFrame(data)\n",
    "print(\"Original DataFrame:\")\n",
    "print(df)\n",
    "\n",
    "\n",
    "mean = df['Age'].mean()\n",
    "print(f\"Mean Age: {mean}\")\n",
    "df['Age'].fillna(mean, inplace=True)\n",
    "\n",
    "\n",
    "\n",
    "medain = df['Salary'].median()\n",
    "print(f\"Median Salary: {medain}\") \n",
    "df['Salary'].fillna(medain, inplace=True)\n",
    "\n",
    "\n",
    "\n",
    "print(df)\n"
   ]
  },
  {
   "cell_type": "markdown",
   "id": "9c837db6",
   "metadata": {},
   "source": [
    "Label Encoding: Best for ordinal data or when the machine learning algorithm can handle integer-encoded categories without misinterpretation.​\n",
    "\n",
    "One-Hot Encoding: Ideal for nominal data to prevent the model from assuming any ordinal relationship between categories."
   ]
  },
  {
   "cell_type": "markdown",
   "id": "2b233d27",
   "metadata": {},
   "source": [
    "🔢 Label Encoding with LabelEncoder\n",
    "Label Encoding transforms categorical labels into integer values. This is particularly useful for encoding target variables or ordinal features.​\n",
    "scikit-learn\n"
   ]
  },
  {
   "cell_type": "code",
   "execution_count": 1,
   "id": "c701ead2",
   "metadata": {},
   "outputs": [
    {
     "name": "stdout",
     "output_type": "stream",
     "text": [
      "Encoded Labels: [2 1 0 1 2]\n",
      "Classes: ['blue' 'green' 'red']\n",
      "Original Labels: ['red' 'green' 'blue' 'green' 'red']\n"
     ]
    }
   ],
   "source": [
    "from sklearn.preprocessing import LabelEncoder\n",
    "\n",
    "# Sample data\n",
    "labels = ['red', 'green', 'blue', 'green', 'red']\n",
    "\n",
    "# Initialize the encoder\n",
    "le = LabelEncoder()\n",
    "\n",
    "# Fit and transform the labels\n",
    "encoded_labels = le.fit_transform(labels)\n",
    "\n",
    "print(\"Encoded Labels:\", encoded_labels)\n",
    "print(\"Classes:\", le.classes_)\n",
    "\n",
    "# To inverse transform\n",
    "original_labels = le.inverse_transform(encoded_labels)\n",
    "print(\"Original Labels:\", original_labels)\n"
   ]
  },
  {
   "cell_type": "markdown",
   "id": "7c7e7e44",
   "metadata": {},
   "source": [
    "One Hot Encoder"
   ]
  },
  {
   "cell_type": "code",
   "execution_count": 3,
   "id": "f8ed956b",
   "metadata": {},
   "outputs": [
    {
     "name": "stdout",
     "output_type": "stream",
     "text": [
      "Encoded Features:\n",
      " [[0. 0. 1.]\n",
      " [0. 1. 0.]\n",
      " [1. 0. 0.]\n",
      " [0. 1. 0.]\n",
      " [0. 0. 1.]]\n",
      "Categories: [array(['blue', 'green', 'red'], dtype='<U5')]\n"
     ]
    }
   ],
   "source": [
    "from sklearn.preprocessing import OneHotEncoder\n",
    "import numpy as np\n",
    "\n",
    "# Sample data\n",
    "features = np.array([['red'], ['green'], ['blue'], ['green'], ['red']])\n",
    "\n",
    "# Initialize the encoder\n",
    "ohe = OneHotEncoder(sparse_output=False)\n",
    "\n",
    "# Fit and transform the features\n",
    "encoded_features = ohe.fit_transform(features)\n",
    "\n",
    "print(\"Encoded Features:\\n\", encoded_features)\n",
    "print(\"Categories:\", ohe.categories_)\n"
   ]
  },
  {
   "cell_type": "code",
   "execution_count": null,
   "id": "c4771c82",
   "metadata": {},
   "outputs": [],
   "source": []
  }
 ],
 "metadata": {
  "kernelspec": {
   "display_name": "Python 3",
   "language": "python",
   "name": "python3"
  },
  "language_info": {
   "codemirror_mode": {
    "name": "ipython",
    "version": 3
   },
   "file_extension": ".py",
   "mimetype": "text/x-python",
   "name": "python",
   "nbconvert_exporter": "python",
   "pygments_lexer": "ipython3",
   "version": "3.11.3"
  }
 },
 "nbformat": 4,
 "nbformat_minor": 5
}
