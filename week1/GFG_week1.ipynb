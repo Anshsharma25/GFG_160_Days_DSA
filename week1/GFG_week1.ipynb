{
 "cells": [
  {
   "cell_type": "markdown",
   "id": "cfb7ae4c",
   "metadata": {},
   "source": [
    "Given an array of positive integers arr[], return the second largest element from the array. If the second largest element doesn't exist then return -1.\n",
    "\n",
    "Note: The second largest element should not be equal to the largest element.\n",
    "\n",
    "Examples:\n",
    "\n",
    "Input: arr[] = [12, 35, 1, 10, 34, 1]\n",
    "Output: 34\n",
    "Explanation: The largest element of the array is 35 and the second largest element is 34.\n",
    "Input: arr[] = [10, 5, 10]\n",
    "Output: 5\n",
    "Explanation: The largest element of the array is 10 and the second largest element is 5.\n",
    "Input: arr[] = [10, 10, 10]\n",
    "Output: -1\n",
    "Explanation: The largest element of the array is 10 and the second largest element does not exist"
   ]
  },
  {
   "cell_type": "code",
   "execution_count": 2,
   "id": "5e42fc59",
   "metadata": {},
   "outputs": [
    {
     "name": "stdout",
     "output_type": "stream",
     "text": [
      "Second largest element is 234\n"
     ]
    }
   ],
   "source": [
    "class Solution:\n",
    "    def getSecondLargest(self, arr):\n",
    "        first = second = -1 \n",
    "        for i in arr:\n",
    "            if i > first:\n",
    "                second = first\n",
    "                first = i\n",
    "            elif first > i > second:\n",
    "                second = i\n",
    "        return second\n",
    "    \n",
    "'''\n",
    "this is will be used for main funciton if this code is will integrated with other code\n",
    "# if __name__ == \"__main__\":\n",
    "#     t = int(input())\n",
    "#     for _ in range(t):\n",
    "#         arr = list(map(int, input().split()))\n",
    "#         ob = Solution()\n",
    "#         ans = ob.getSecondLargest(arr)\n",
    "#         print(ans)\n",
    "#         print(\"~\")\n",
    "'''\n",
    "\n",
    "arr = [12,35,1,10,34,46,765,234]\n",
    "print(\"Second largest element is\", Solution().getSecondLargest(arr))\n"
   ]
  },
  {
   "cell_type": "markdown",
   "id": "32b7d37b",
   "metadata": {},
   "source": [
    "Q2 : You are given an array arr[] of non-negative integers. Your task is to move all the zeros in the array to the right end while maintaining the relative order of the non-zero elements. The operation must be performed in place, meaning you should not use extra space for another array.\n",
    "\n",
    "Examples:\n",
    "\n",
    "Input: arr[] = [1, 2, 0, 4, 3, 0, 5, 0]\n",
    "Output: [1, 2, 4, 3, 5, 0, 0, 0]\n",
    "Explanation: There are three 0s that are moved to the end.\n",
    "Input: arr[] = [10, 20, 30]\n",
    "Output: [10, 20, 30]\n",
    "Explanation: No change in array as there are no 0s.\n",
    "Input: arr[] = [0, 0]\n",
    "Output: [0, 0]\n",
    "Explanation: No change in array as there are all 0s.\n",
    "Constraints:\n",
    "1 ≤ arr.size() ≤ 105\n",
    "0 ≤ arr[i] ≤ 105\n",
    "\n"
   ]
  },
  {
   "cell_type": "code",
   "execution_count": 2,
   "id": "f0e5e62d",
   "metadata": {},
   "outputs": [
    {
     "name": "stdout",
     "output_type": "stream",
     "text": [
      "Array after pushing zeros to end: [1, 2, 4, 3, 5, 0, 0, 0]\n"
     ]
    }
   ],
   "source": [
    "# User function Template for python3\n",
    "class Solution:\n",
    "    def pushZerosToEnd(self, arr):\n",
    "        j = 0  # Pointer for the position of next non-zero\n",
    "\n",
    "        for i in range(len(arr)):\n",
    "            if arr[i] != 0:\n",
    "                arr[i], arr[j] = arr[j], arr[i]\n",
    "                j += 1\n",
    "\n",
    "\n",
    "arr = [1, 2, 0, 4, 3, 0, 5, 0]\n",
    "\n",
    "Solution().pushZerosToEnd(arr)  # modifies in place\n",
    "\n",
    "print(\"Array after pushing zeros to end:\", arr)\n"
   ]
  },
  {
   "cell_type": "markdown",
   "id": "9f5fcd16",
   "metadata": {},
   "source": [
    "You are given an array of integers arr[]. Your task is to reverse the given array.\n",
    "\n",
    "Note: Modify the array in place.\n",
    "\n",
    "Examples:\n",
    "\n",
    "Input: arr = [1, 4, 3, 2, 6, 5]\n",
    "Output: [5, 6, 2, 3, 4, 1]\n",
    "Explanation: The elements of the array are 1 4 3 2 6 5. After reversing the array, the first element goes to the last position, the second element goes to the second last position and so on. Hence, the answer is 5 6 2 3 4 1.\n",
    "Input: arr = [4, 5, 2]\n",
    "Output: [2, 5, 4]\n",
    "Explanation: The elements of the array are 4 5 2. The reversed array will be 2 5 4."
   ]
  },
  {
   "cell_type": "code",
   "execution_count": 7,
   "id": "d86f4026",
   "metadata": {},
   "outputs": [
    {
     "name": "stdout",
     "output_type": "stream",
     "text": [
      "None\n"
     ]
    }
   ],
   "source": [
    "# class Solution:\n",
    "def reverseArray(arr):\n",
    "        n = len(arr)\n",
    "        for i in range(n//2):\n",
    "            arr[i], arr[n-i-1] = arr[n-i-1] , arr[i]\n",
    "\n",
    "arr = [1, 4, 3, 2, 6, 5]\n",
    "print(reverseArray(arr))  # modifies in place"
   ]
  },
  {
   "cell_type": "markdown",
   "id": "9f33641b",
   "metadata": {},
   "source": [
    "Working that part\n"
   ]
  },
  {
   "cell_type": "code",
   "execution_count": null,
   "id": "5f396d1b",
   "metadata": {},
   "outputs": [],
   "source": []
  }
 ],
 "metadata": {
  "kernelspec": {
   "display_name": "Python 3",
   "language": "python",
   "name": "python3"
  },
  "language_info": {
   "codemirror_mode": {
    "name": "ipython",
    "version": 3
   },
   "file_extension": ".py",
   "mimetype": "text/x-python",
   "name": "python",
   "nbconvert_exporter": "python",
   "pygments_lexer": "ipython3",
   "version": "3.11.3"
  }
 },
 "nbformat": 4,
 "nbformat_minor": 5
}
