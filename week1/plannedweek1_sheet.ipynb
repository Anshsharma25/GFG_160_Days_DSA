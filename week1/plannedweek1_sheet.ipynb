{
 "cells": [
  {
   "cell_type": "markdown",
   "id": "8d03b762",
   "metadata": {},
   "source": [
    "Q: Write a program that takes two numbers from the user and swaps their values without using a third variable."
   ]
  },
  {
   "cell_type": "code",
   "execution_count": 4,
   "id": "2e0f623f",
   "metadata": {},
   "outputs": [
    {
     "name": "stdout",
     "output_type": "stream",
     "text": [
      "After swap:\n",
      "a = 9\n",
      "b = 8\n"
     ]
    }
   ],
   "source": [
    "\n",
    "a = int(input(\"Enter first number: \")) # INPUT IS 5\n",
    "b = int(input(\"Enter second number: \"))# INPUT IS 10\n",
    "\n",
    "# Swap without temp variable\n",
    "a = a + b   #suppose a = 5, b = 10 => a = 15\n",
    "\n",
    "b = a - b   #suppose a = 15 =>  B = 10        b = 15 - 10 = 5\n",
    "\n",
    "a = a - b   #suppose b = 10 => a = 15 - 5 = 10\n",
    "\n",
    "# Output\n",
    "print(\"After swap:\")\n",
    "print(\"a =\", a)\n",
    "print(\"b =\", b)\n"
   ]
  },
  {
   "cell_type": "markdown",
   "id": "d7b3306b",
   "metadata": {},
   "source": [
    "Write a program to print the first n Fibonacci numbers using a loop."
   ]
  },
  {
   "cell_type": "code",
   "execution_count": 7,
   "id": "0fdd3c42",
   "metadata": {},
   "outputs": [
    {
     "name": "stdout",
     "output_type": "stream",
     "text": [
      "0 1 1 2 3 5 8 "
     ]
    }
   ],
   "source": [
    "n = int(input(\"Enter the number of Fibonacci terms: \"))\n",
    "\n",
    "a, b = 0, 1\n",
    "for i in range(n):\n",
    "    print(a, end=\" \")\n",
    "    a, b = b, a + b\n"
   ]
  },
  {
   "cell_type": "markdown",
   "id": "83bc9f0e",
   "metadata": {},
   "source": [
    " Q3: Prime Numbers from 1 to 50 Using Function"
   ]
  },
  {
   "cell_type": "code",
   "execution_count": 8,
   "id": "3e011709",
   "metadata": {},
   "outputs": [
    {
     "name": "stdout",
     "output_type": "stream",
     "text": [
      "2 3 5 7 11 13 17 19 23 29 31 37 41 43 47 53 59 61 67 71 73 79 83 89 97 "
     ]
    }
   ],
   "source": [
    "def is_prime(n):\n",
    "    if n<=1:\n",
    "        return False\n",
    "    for i in range(2,int(n**0.5)+1):\n",
    "        if n%i==0:\n",
    "            return False\n",
    "    return True\n",
    "\n",
    "for i in range(1, 101):\n",
    "    if is_prime(i):\n",
    "        print(i, end=\" \")"
   ]
  },
  {
   "cell_type": "markdown",
   "id": "47682f71",
   "metadata": {},
   "source": [
    "Problem:\n",
    "\n",
    "Given a 2D list (matrix) of integers, write a list comprehension to create a new list containing the squares of all even numbers from the matrix."
   ]
  },
  {
   "cell_type": "code",
   "execution_count": null,
   "id": "968a03d7",
   "metadata": {},
   "outputs": [
    {
     "name": "stdout",
     "output_type": "stream",
     "text": [
      "[4, 16, 36, 64]\n",
      "[4, 16, 36, 64]\n"
     ]
    }
   ],
   "source": [
    "matrix = [\n",
    "    [1, 2, 3],\n",
    "    [4, 5, 6],\n",
    "    [7, 8, 9]\n",
    "]\n",
    "\n",
    "even_squares = [x**2 for row in matrix for x in row if x % 2 == 0]\n",
    "print(even_squares)\n",
    "\n",
    "\n",
    "# even_squares = []\n",
    "\n",
    "# for row in matrix:\n",
    "#     for x in row:\n",
    "#         if x % 2 == 0:\n",
    "#             even_squares.append(x ** 2)\n",
    "\n",
    "# print(even_squares)\n"
   ]
  },
  {
   "cell_type": "markdown",
   "id": "3a962d14",
   "metadata": {},
   "source": [
    "Problem:\n",
    "\n",
    "Given a list of integers, write a list comprehension that replaces each negative number with 0 and keeps positive numbers unchanged."
   ]
  },
  {
   "cell_type": "code",
   "execution_count": 31,
   "id": "f9e215d3",
   "metadata": {},
   "outputs": [
    {
     "name": "stdout",
     "output_type": "stream",
     "text": [
      "[5, 0, 3, 0, 0, 7]\n"
     ]
    }
   ],
   "source": [
    "numbers = [5, -1, 3, -2, 0, 7]\n",
    "\n",
    "coutzero =[]\n",
    "\n",
    "for i in numbers:\n",
    "    if i >=0:\n",
    "        coutzero.append(i)\n",
    "    else:\n",
    "        coutzero.append(0)\n",
    "\n",
    "print(coutzero)\n",
    "\n",
    "\n",
    "\n",
    "\n",
    "\n",
    "# numbers = [5, -1, 3, -2, 0, 7]\n",
    "# non_negative = []\n",
    "\n",
    "# for x in numbers:\n",
    "#     if x >= 0:\n",
    "#         non_negative.append(x)\n",
    "#     else:\n",
    "#         non_negative.append(0)\n",
    "\n",
    "# print(non_negative)\n",
    "\n",
    "\n"
   ]
  },
  {
   "cell_type": "markdown",
   "id": "4946f5f0",
   "metadata": {},
   "source": [
    "## Classes, Inheritance, Magic Methods\n",
    "\n",
    "Define a base class Character that encapsulates the attributes name and health.\n",
    "\n",
    "Implement a derived class Warrior that extends Character and introduces an additional attribute strength.\n",
    "\n",
    "Override the __str__ magic method in both classes to provide a meaningful string representation of their respective objects.\n",
    "\n",
    "Demonstrate runtime polymorphism by instantiating objects of both classes and invoking the overridden __str__ method.\n",
    "\n"
   ]
  },
  {
   "cell_type": "code",
   "execution_count": 3,
   "id": "b3109d30",
   "metadata": {},
   "outputs": [
    {
     "name": "stdout",
     "output_type": "stream",
     "text": [
      "[character] Name: Ansh,Health :120\n"
     ]
    }
   ],
   "source": [
    "# for question 1 \n",
    "class character:\n",
    "    def __init__(self, name: str, health: str):\n",
    "        self.name = name \n",
    "        self.health = health \n",
    "\n",
    "    def __str__(self) -> str:\n",
    "        return f\"[character] Name: {self.name},Health :{self.health}\"\n",
    "    \n",
    "#we need to create a object for it like \n",
    "char = character(\"Ansh\", 120 )\n",
    "print(char)"
   ]
  },
  {
   "cell_type": "code",
   "execution_count": 5,
   "id": "e0893ef3",
   "metadata": {},
   "outputs": [
    {
     "name": "stdout",
     "output_type": "stream",
     "text": [
      "warrrior Name:Ansh Sharma,Health:120 and the strenght of Ansh Sharma is Data Scientist Specalist\n"
     ]
    }
   ],
   "source": [
    "# for question 2 \n",
    "class Warrior:\n",
    "    def __init__(self, name: str, health : int , strength : str):\n",
    "\n",
    "        self.name= name\n",
    "        self.health = health\n",
    "        self.strenght = strength\n",
    "\n",
    "    def __str__(self)-> str:\n",
    "        return f\"warrrior Name:{self.name},Health:{self.health} and the strenght of {self.name} is {self.strenght}\"\n",
    "    \n",
    "\n",
    "# create a object\n",
    "stren = Warrior(\"Ansh Sharma\", 120, \"Data Scientist Specalist\" )\n",
    "print(stren)"
   ]
  },
  {
   "cell_type": "code",
   "execution_count": 7,
   "id": "70b918f2",
   "metadata": {},
   "outputs": [
    {
     "name": "stdout",
     "output_type": "stream",
     "text": [
      "[character] Name: Elden,Health :120\n",
      "warrrior Name:Ragnar,Health:200 and the strenght of Ragnar is 75\n"
     ]
    }
   ],
   "source": [
    "def display_character_info(character):\n",
    "    print(character)\n",
    "\n",
    "#Object instantiation\n",
    "c1 = character(\"Elden\", 120)\n",
    "w1 = Warrior(\"Ragnar\", 200, 75)\n",
    "\n",
    "# Polymorphism in action\n",
    "display_character_info(c1)  # Uses Character.__str__\n",
    "display_character_info(w1)  # Uses Warrior.__str__"
   ]
  },
  {
   "cell_type": "markdown",
   "id": "ac4542bc",
   "metadata": {},
   "source": [
    "## Lists, Tuples, Sets, Dicts"
   ]
  },
  {
   "cell_type": "markdown",
   "id": "d02ce7e5",
   "metadata": {},
   "source": [
    "You have a list of user login times (in seconds).\n",
    "Write a function to return the average login time and remove all duplicate values.\n",
    "\n"
   ]
  },
  {
   "cell_type": "code",
   "execution_count": 1,
   "id": "aba7f9b2",
   "metadata": {},
   "outputs": [
    {
     "name": "stdout",
     "output_type": "stream",
     "text": [
      "168.0\n"
     ]
    }
   ],
   "source": [
    "def tulika_timing(minutes):\n",
    "    unique = list(set(minutes))\n",
    "    avg = sum(minutes)/len(minutes)\n",
    "    return avg\n",
    "\n",
    "\n",
    "login = [120, 150, 120, 300, 150]\n",
    "print(tulika_timing(login))"
   ]
  },
  {
   "cell_type": "markdown",
   "id": "906f01d9",
   "metadata": {},
   "source": [
    "3. Separate file types"
   ]
  },
  {
   "cell_type": "code",
   "execution_count": 7,
   "id": "d8067ed6",
   "metadata": {},
   "outputs": [
    {
     "name": "stdout",
     "output_type": "stream",
     "text": [
      "TXT: ['report.txt', 'notes.txt']\n",
      "CSV: ['data.csv', 'summary.csv']\n",
      "Others: ['image.png']\n"
     ]
    }
   ],
   "source": [
    "files = [\"data.csv\", \"report.txt\", \"image.png\", \"summary.csv\", \"notes.txt\"]\n",
    "txt = []\n",
    "csv = []\n",
    "png = []\n",
    "\n",
    "for i in files:\n",
    "\n",
    "    if i.endswith('.csv'):\n",
    "        csv.append(i)\n",
    "    elif i.endswith('.txt'):\n",
    "        txt.append(i)\n",
    "    else:\n",
    "        png.append(i)\n",
    "\n",
    "print(\"TXT:\", txt)\n",
    "print(\"CSV:\", csv)\n",
    "print(\"Others:\", png)"
   ]
  },
  {
   "cell_type": "code",
   "execution_count": 8,
   "id": "c578f37d",
   "metadata": {},
   "outputs": [
    {
     "name": "stdout",
     "output_type": "stream",
     "text": [
      "('John', 22, 'CS')\n"
     ]
    }
   ],
   "source": [
    "record = (\"John\", 21, \"CS\")\n",
    "record_list = list(record)\n",
    "record_list[1] = 22  # Update age\n",
    "updated_tuple = tuple(record_list)\n",
    "print(updated_tuple)\n"
   ]
  },
  {
   "cell_type": "code",
   "execution_count": 9,
   "id": "13acc209",
   "metadata": {},
   "outputs": [
    {
     "name": "stdout",
     "output_type": "stream",
     "text": [
      "(1, 2, [3, 4, 5])\n"
     ]
    }
   ],
   "source": [
    "t = (1, 2, [3, 4])\n",
    "t[2].append(5)\n",
    "print(t)  # (1, 2, [3, 4, 5]) ✅ YES — list is mutable\n"
   ]
  },
  {
   "cell_type": "code",
   "execution_count": 10,
   "id": "d0b86e15",
   "metadata": {},
   "outputs": [
    {
     "name": "stdout",
     "output_type": "stream",
     "text": [
      "{'David', 'Bob'}\n"
     ]
    }
   ],
   "source": [
    "registered = {\"Alice\", \"Bob\", \"Charlie\", \"David\"}\n",
    "logged_in = {\"Alice\", \"Charlie\"}\n",
    "\n",
    "never_logged_in = registered - logged_in\n",
    "print(never_logged_in)  # {'Bob', 'David'}\n"
   ]
  },
  {
   "cell_type": "code",
   "execution_count": 14,
   "id": "a70e1745",
   "metadata": {},
   "outputs": [
    {
     "name": "stdout",
     "output_type": "stream",
     "text": [
      "['a@gmail.com', 'b@gmail.com']\n"
     ]
    }
   ],
   "source": [
    "emails = [\"a@gmail.com\", \"b@gmail.com\", \"a@gmail.com\"]\n",
    "unique_emails = list(set(emails))\n",
    "print(unique_emails)\n"
   ]
  },
  {
   "cell_type": "code",
   "execution_count": 15,
   "id": "b610936b",
   "metadata": {},
   "outputs": [
    {
     "name": "stdout",
     "output_type": "stream",
     "text": [
      "{'a': 1, 'b': 3, 'c': 4}\n"
     ]
    }
   ],
   "source": [
    "d1 = {\"a\": 1, \"b\": 2}\n",
    "d2 = {\"b\": 3, \"c\": 4}\n",
    "merged = d1 | d2\n",
    "print(merged)  # {'a': 1, 'b': 3, 'c': 4}\n"
   ]
  },
  {
   "cell_type": "code",
   "execution_count": 16,
   "id": "4bee75d4",
   "metadata": {},
   "outputs": [
    {
     "name": "stdout",
     "output_type": "stream",
     "text": [
      "orange\n"
     ]
    }
   ],
   "source": [
    "sales = {\"apple\": 50, \"banana\": 30, \"orange\": 70}\n",
    "max_product = max(sales, key=sales.get)\n",
    "print(max_product)  # 'orange'\n"
   ]
  },
  {
   "cell_type": "code",
   "execution_count": 17,
   "id": "94d3ef3a",
   "metadata": {},
   "outputs": [
    {
     "name": "stdout",
     "output_type": "stream",
     "text": [
      "[('David', 80000), ('Bob', 75000), ('Alice', 60000)]\n"
     ]
    }
   ],
   "source": [
    "salaries = {\n",
    "    \"Alice\": 60000,\n",
    "    \"Bob\": 75000,\n",
    "    \"Charlie\": 50000,\n",
    "    \"David\": 80000\n",
    "}\n",
    "\n",
    "# Convert dictionary to a list of tuples\n",
    "items = list(salaries.items())\n",
    "\n",
    "# Selection sort based on salary (value)\n",
    "for i in range(len(items)):\n",
    "    max_idx = i\n",
    "    for j in range(i + 1, len(items)):\n",
    "        if items[j][1] > items[max_idx][1]:  # Compare salaries\n",
    "            max_idx = j\n",
    "    # Swap\n",
    "    items[i], items[max_idx] = items[max_idx], items[i]\n",
    "\n",
    "# Get top 3\n",
    "top_3 = items[:3]\n",
    "\n",
    "print(top_3)\n"
   ]
  },
  {
   "cell_type": "markdown",
   "id": "ebd487d5",
   "metadata": {},
   "source": [
    "## Stacks & Queues"
   ]
  },
  {
   "cell_type": "markdown",
   "id": "bafe49c6",
   "metadata": {},
   "source": [
    "Undo Feature in Editors\n",
    "Implement an undo operation for a text editor using a stack. What data would you push and pop?\n",
    "\n",
    "HTML Tag Matching\n",
    "Given a string of HTML/XML tags, use a stack to check if all tags are properly closed.\n",
    "\n",
    "Browser History Navigation\n",
    "Simulate a browser’s back and forward button using two stacks.\n",
    "\n",
    "Expression Evaluation\n",
    "Write a program that evaluates a postfix (Reverse Polish Notation) expression using a stack.\n",
    "\n",
    "Balanced Parentheses\n",
    "Write a function to check whether an expression has balanced brackets using a stack."
   ]
  },
  {
   "cell_type": "markdown",
   "id": "62e3ecf2",
   "metadata": {},
   "source": [
    "## A queue is a linear data structure that follows the First In, First Out (FIFO) principle. The first item added is the first one removed. that is know as Queue.\n",
    "\n",
    "## A stack is a linear data structure that follows the Last In, First Out (LIFO) principle. This means the last item added to the stack is the first one to be removed.\n",
    "\n"
   ]
  },
  {
   "cell_type": "code",
   "execution_count": 11,
   "id": "2ec32bed",
   "metadata": {},
   "outputs": [
    {
     "name": "stdout",
     "output_type": "stream",
     "text": [
      " This is what am writingThis is what am writing in here \n"
     ]
    }
   ],
   "source": [
    "class text_editor:\n",
    "    def __init__(self):\n",
    "        self.content = \" \"\n",
    "        self.history = []\n",
    "\n",
    "    def write(self , text):\n",
    "        self.history.append(self.content)\n",
    "        self.content = self.content + text\n",
    "   \n",
    "    def undo(self):\n",
    "        if self.history:\n",
    "            self.content = self.history.pop()\n",
    "        else:\n",
    "            print(\"nothing to undo\")\n",
    "\n",
    "    def show(self):\n",
    "        print(self.content)\n",
    "\n",
    "\n",
    "editor = text_editor()\n",
    "editor.write(\"This is what am writing\")\n",
    "editor.write(\"This is what am writing in here \")\n",
    "\n",
    "editor.show()"
   ]
  },
  {
   "cell_type": "code",
   "execution_count": 12,
   "id": "3d4e8588",
   "metadata": {},
   "outputs": [
    {
     "name": "stdout",
     "output_type": "stream",
     "text": [
      " This is what am writing\n"
     ]
    }
   ],
   "source": [
    "editor.undo()\n",
    "\n",
    "editor.show()"
   ]
  },
  {
   "cell_type": "code",
   "execution_count": 14,
   "id": "b653569c",
   "metadata": {},
   "outputs": [
    {
     "name": "stdout",
     "output_type": "stream",
     "text": [
      "True\n",
      "False\n"
     ]
    }
   ],
   "source": [
    "# 2. Balanced Parentheses Checker (Using Stack)\n",
    "\n",
    "def balance(expr):\n",
    "    stack = []\n",
    "    pairs = {')': '(', ']': '[', '}': '{'}\n",
    "\n",
    "    for ch in expr:\n",
    "        if ch in \"([{\":\n",
    "            stack.append(ch)\n",
    "        elif ch in \")]}\":\n",
    "            if not stack or stack[-1] != pairs[ch]:\n",
    "                return False\n",
    "            stack.pop()\n",
    "    return len(stack) == 0\n",
    "\n",
    "print(balance(\"{[()]}\"))  # True\n",
    "print(balance(\"((]\"))"
   ]
  },
  {
   "cell_type": "code",
   "execution_count": 21,
   "id": "320ab45a",
   "metadata": {},
   "outputs": [
    {
     "name": "stdout",
     "output_type": "stream",
     "text": [
      "youtube.com\n"
     ]
    }
   ],
   "source": [
    "class browser:\n",
    "    def __init__(self):\n",
    "        self.back_stack = []\n",
    "        self.forward_stack = []\n",
    "        self.current = \"Home\"\n",
    "\n",
    "    def visit(self ,url):\n",
    "        self.back_stack.append(self.current)\n",
    "        self.current = url \n",
    "        self.forward_stack.clear()\n",
    "\n",
    "    def back(self):\n",
    "        if self.back_stack:\n",
    "            self.forward_stack.append(self.current)\n",
    "            self.current = self.back_stack.pop()\n",
    "\n",
    "    def forward(self):\n",
    "        if self.forward_stack:\n",
    "            self.back_stack.append(self.current)\n",
    "            self.current = self.forward_stack.pop()\n",
    "\n",
    "    def get_page(self):\n",
    "        return self.current\n",
    "    \n",
    "b = browser()\n",
    "b.visit(\"google.com\")\n",
    "b.visit(\"youtube.com\")\n",
    "print(b.get_page())"
   ]
  },
  {
   "cell_type": "code",
   "execution_count": null,
   "id": "11ad75fb",
   "metadata": {},
   "outputs": [
    {
     "name": "stdout",
     "output_type": "stream",
     "text": [
      "google.com\n"
     ]
    }
   ],
   "source": [
    "b.back()\n",
    "print(b.get_page())"
   ]
  },
  {
   "cell_type": "code",
   "execution_count": 23,
   "id": "c5c0057a",
   "metadata": {},
   "outputs": [
    {
     "name": "stdout",
     "output_type": "stream",
     "text": [
      "youtube.com\n"
     ]
    }
   ],
   "source": [
    "b.forward()\n",
    "print(b.get_page())"
   ]
  },
  {
   "cell_type": "markdown",
   "id": "866644ef",
   "metadata": {},
   "source": [
    "## Bubble, Merge, Quick"
   ]
  },
  {
   "cell_type": "markdown",
   "id": "6d50cb04",
   "metadata": {},
   "source": [
    "Write a Python function to implement Bubble Sort and sort the following list:\n",
    "Modify your Bubble Sort to stop early if the array is already sorted.\n",
    "Count the total number of swaps performed during Bubble Sort on this list:"
   ]
  },
  {
   "cell_type": "markdown",
   "id": "b0a070eb",
   "metadata": {},
   "source": [
    "arr = [64, 25, 12, 22, 11]"
   ]
  },
  {
   "cell_type": "code",
   "execution_count": 2,
   "id": "ca0f0979",
   "metadata": {},
   "outputs": [
    {
     "name": "stdout",
     "output_type": "stream",
     "text": [
      "[11, 12, 22, 25, 64]\n"
     ]
    }
   ],
   "source": [
    "def bubble(arr):\n",
    "    n = len(arr)\n",
    "    for i in range(n):\n",
    "        for j in range(0,n-i-1): # q ki j ek step age h i se to vo i-1 tk jaega \n",
    "            if arr[j] > arr[j+1]:\n",
    "                arr[j],arr[j+1] = arr[j+1], arr[j]\n",
    "    return arr\n",
    "\n",
    "arr = [64, 25, 12, 22, 11]\n",
    "print(bubble(arr))"
   ]
  },
  {
   "cell_type": "code",
   "execution_count": 7,
   "id": "4a652da7",
   "metadata": {},
   "outputs": [
    {
     "name": "stdout",
     "output_type": "stream",
     "text": [
      "Optimized sort: [1, 2, 3, 5, 9]\n"
     ]
    }
   ],
   "source": [
    "def optimized_bubble_sort(arr):\n",
    "    n = len(arr)\n",
    "    for i in range(n):\n",
    "        swap = False\n",
    "        for j in range(0,n-i-1): # q ki j ek step age h i se to vo i-1 tk jaega \n",
    "            if arr[j] > arr[j+1]:\n",
    "                arr[j],arr[j+1] = arr[j+1], arr[j]\n",
    "                swap = True\n",
    "        if not swap:\n",
    "            break\n",
    "\n",
    "\n",
    "    return arr\n",
    "\n",
    "arr = [1, 2, 3, 9, 5]\n",
    "print(\"Optimized sort:\", optimized_bubble_sort(arr))"
   ]
  },
  {
   "cell_type": "code",
   "execution_count": null,
   "id": "bae2eb2a",
   "metadata": {},
   "outputs": [
    {
     "name": "stdout",
     "output_type": "stream",
     "text": [
      "Total swaps: 18\n"
     ]
    },
    {
     "data": {
      "text/plain": [
       "'\\nIF we want to check the swap count,  then no. of arr m jitne item h us se ek zada value ho k l\\nlike ki arr total value h 9 to then total swap 10 hoga \\n'"
      ]
     },
     "execution_count": 15,
     "metadata": {},
     "output_type": "execute_result"
    }
   ],
   "source": [
    "def bubble_sort_with_swap_count(arr):\n",
    "    n = len(arr)\n",
    "    swap_count = 0\n",
    "    for i in range(n):\n",
    "        for j in range(0, n - i - 1):\n",
    "            if arr[j] > arr[j + 1]:\n",
    "                arr[j], arr[j + 1] = arr[j + 1], arr[j]\n",
    "                swap_count += 1\n",
    "    return swap_count\n",
    "\n",
    "arr = [5, 1,8, 4, 5, 1,8, 4,2]\n",
    "print(\"Total swaps:\", bubble_sort_with_swap_count(arr))\n"
   ]
  },
  {
   "cell_type": "markdown",
   "id": "0d7b068f",
   "metadata": {},
   "source": [
    "## 1. Implement Quick Sort (with pivot logic)"
   ]
  },
  {
   "cell_type": "markdown",
   "id": "61811070",
   "metadata": {},
   "source": [
    "📌 Quick Sort ek sorting algorithm hai jo kisi list ya array ko chhote se bada (ascending) ya bade se chhota (descending) order mein arrange karta hai.\n",
    "💡 Kaise Kaam Karta Hai (Hinglish Explanation):\n",
    "Ek pivot element chunta hai (usually last element).\n",
    "\n",
    "Fir us pivot ke around array ko do parts mein divide karta hai:\n",
    "\n",
    "Left side: jo elements pivot se chhote hote hain.\n",
    "\n",
    "Right side: jo elements pivot se bade hote hain.\n",
    "\n",
    "Yehi process dono sides pe recursively repeat hota hai, jab tak poora array sort na ho jaye.\n"
   ]
  },
  {
   "cell_type": "code",
   "execution_count": 21,
   "id": "a277fafe",
   "metadata": {},
   "outputs": [
    {
     "name": "stdout",
     "output_type": "stream",
     "text": [
      "Pivot: 70\n",
      "Pivot: 50\n",
      "Pivot: 40\n",
      "Pivot: 30\n",
      "Pivot: 80\n",
      "Sorted: [10, 30, 40, 50, 70, 80, 90]\n"
     ]
    }
   ],
   "source": [
    "def quick_sort(arr):\n",
    "    def quick_sort2(low, high):\n",
    "        if low < high:\n",
    "            pi = partition(low, high)\n",
    "            print(\"Pivot:\", arr[pi])\n",
    "\n",
    "            quick_sort2(low , pi-1)\n",
    "            quick_sort2(pi+1, high)\n",
    "    \n",
    "    def partition(low,high):\n",
    "        pivot = arr[high]\n",
    "        i = low -1 \n",
    "\n",
    "        for j in range(low , high):\n",
    "            if arr[j]<= pivot:\n",
    "                i = i + 1\n",
    "                arr[i], arr[j] = arr[j ], arr[i]\n",
    "        \n",
    "        arr[i + 1], arr[high] = arr[high], arr[i + 1]\n",
    "        return i + 1\n",
    "    quick_sort2(0, len(arr) - 1) \n",
    "\n",
    "arr = [10, 80, 30, 90, 40, 50, 70]\n",
    "quick_sort(arr)\n",
    "print(\"Sorted:\",(arr))"
   ]
  },
  {
   "cell_type": "code",
   "execution_count": null,
   "id": "9e7afb6d",
   "metadata": {},
   "outputs": [],
   "source": []
  }
 ],
 "metadata": {
  "kernelspec": {
   "display_name": "Python 3",
   "language": "python",
   "name": "python3"
  },
  "language_info": {
   "codemirror_mode": {
    "name": "ipython",
    "version": 3
   },
   "file_extension": ".py",
   "mimetype": "text/x-python",
   "name": "python",
   "nbconvert_exporter": "python",
   "pygments_lexer": "ipython3",
   "version": "3.11.3"
  }
 },
 "nbformat": 4,
 "nbformat_minor": 5
}
