{
 "cells": [
  {
   "cell_type": "markdown",
   "id": "8d03b762",
   "metadata": {},
   "source": [
    "Q: Write a program that takes two numbers from the user and swaps their values without using a third variable."
   ]
  },
  {
   "cell_type": "code",
   "execution_count": 4,
   "id": "2e0f623f",
   "metadata": {},
   "outputs": [
    {
     "name": "stdout",
     "output_type": "stream",
     "text": [
      "After swap:\n",
      "a = 9\n",
      "b = 8\n"
     ]
    }
   ],
   "source": [
    "\n",
    "a = int(input(\"Enter first number: \")) # INPUT IS 5\n",
    "b = int(input(\"Enter second number: \"))# INPUT IS 10\n",
    "\n",
    "# Swap without temp variable\n",
    "a = a + b   #suppose a = 5, b = 10 => a = 15\n",
    "\n",
    "b = a - b   #suppose a = 15 =>  B = 10        b = 15 - 10 = 5\n",
    "\n",
    "a = a - b   #suppose b = 10 => a = 15 - 5 = 10\n",
    "\n",
    "# Output\n",
    "print(\"After swap:\")\n",
    "print(\"a =\", a)\n",
    "print(\"b =\", b)\n"
   ]
  },
  {
   "cell_type": "markdown",
   "id": "d7b3306b",
   "metadata": {},
   "source": [
    "Write a program to print the first n Fibonacci numbers using a loop."
   ]
  },
  {
   "cell_type": "code",
   "execution_count": 7,
   "id": "0fdd3c42",
   "metadata": {},
   "outputs": [
    {
     "name": "stdout",
     "output_type": "stream",
     "text": [
      "0 1 1 2 3 5 8 "
     ]
    }
   ],
   "source": [
    "n = int(input(\"Enter the number of Fibonacci terms: \"))\n",
    "\n",
    "a, b = 0, 1\n",
    "for i in range(n):\n",
    "    print(a, end=\" \")\n",
    "    a, b = b, a + b\n"
   ]
  },
  {
   "cell_type": "markdown",
   "id": "83bc9f0e",
   "metadata": {},
   "source": [
    " Q3: Prime Numbers from 1 to 50 Using Function"
   ]
  },
  {
   "cell_type": "code",
   "execution_count": 8,
   "id": "3e011709",
   "metadata": {},
   "outputs": [
    {
     "name": "stdout",
     "output_type": "stream",
     "text": [
      "2 3 5 7 11 13 17 19 23 29 31 37 41 43 47 53 59 61 67 71 73 79 83 89 97 "
     ]
    }
   ],
   "source": [
    "def is_prime(n):\n",
    "    if n<=1:\n",
    "        return False\n",
    "    for i in range(2,int(n**0.5)+1):\n",
    "        if n%i==0:\n",
    "            return False\n",
    "    return True\n",
    "\n",
    "for i in range(1, 101):\n",
    "    if is_prime(i):\n",
    "        print(i, end=\" \")"
   ]
  },
  {
   "cell_type": "code",
   "execution_count": null,
   "id": "968a03d7",
   "metadata": {},
   "outputs": [],
   "source": []
  }
 ],
 "metadata": {
  "kernelspec": {
   "display_name": "Python 3",
   "language": "python",
   "name": "python3"
  },
  "language_info": {
   "codemirror_mode": {
    "name": "ipython",
    "version": 3
   },
   "file_extension": ".py",
   "mimetype": "text/x-python",
   "name": "python",
   "nbconvert_exporter": "python",
   "pygments_lexer": "ipython3",
   "version": "3.11.3"
  }
 },
 "nbformat": 4,
 "nbformat_minor": 5
}
