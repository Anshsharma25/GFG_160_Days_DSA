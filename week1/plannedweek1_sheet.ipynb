{
 "cells": [
  {
   "cell_type": "markdown",
   "id": "8d03b762",
   "metadata": {},
   "source": [
    "Q: Write a program that takes two numbers from the user and swaps their values without using a third variable."
   ]
  },
  {
   "cell_type": "code",
   "execution_count": 4,
   "id": "2e0f623f",
   "metadata": {},
   "outputs": [
    {
     "name": "stdout",
     "output_type": "stream",
     "text": [
      "After swap:\n",
      "a = 9\n",
      "b = 8\n"
     ]
    }
   ],
   "source": [
    "\n",
    "a = int(input(\"Enter first number: \")) # INPUT IS 5\n",
    "b = int(input(\"Enter second number: \"))# INPUT IS 10\n",
    "\n",
    "# Swap without temp variable\n",
    "a = a + b   #suppose a = 5, b = 10 => a = 15\n",
    "\n",
    "b = a - b   #suppose a = 15 =>  B = 10        b = 15 - 10 = 5\n",
    "\n",
    "a = a - b   #suppose b = 10 => a = 15 - 5 = 10\n",
    "\n",
    "# Output\n",
    "print(\"After swap:\")\n",
    "print(\"a =\", a)\n",
    "print(\"b =\", b)\n"
   ]
  },
  {
   "cell_type": "markdown",
   "id": "d7b3306b",
   "metadata": {},
   "source": [
    "Write a program to print the first n Fibonacci numbers using a loop."
   ]
  },
  {
   "cell_type": "code",
   "execution_count": 7,
   "id": "0fdd3c42",
   "metadata": {},
   "outputs": [
    {
     "name": "stdout",
     "output_type": "stream",
     "text": [
      "0 1 1 2 3 5 8 "
     ]
    }
   ],
   "source": [
    "n = int(input(\"Enter the number of Fibonacci terms: \"))\n",
    "\n",
    "a, b = 0, 1\n",
    "for i in range(n):\n",
    "    print(a, end=\" \")\n",
    "    a, b = b, a + b\n"
   ]
  },
  {
   "cell_type": "markdown",
   "id": "83bc9f0e",
   "metadata": {},
   "source": [
    " Q3: Prime Numbers from 1 to 50 Using Function"
   ]
  },
  {
   "cell_type": "code",
   "execution_count": 8,
   "id": "3e011709",
   "metadata": {},
   "outputs": [
    {
     "name": "stdout",
     "output_type": "stream",
     "text": [
      "2 3 5 7 11 13 17 19 23 29 31 37 41 43 47 53 59 61 67 71 73 79 83 89 97 "
     ]
    }
   ],
   "source": [
    "def is_prime(n):\n",
    "    if n<=1:\n",
    "        return False\n",
    "    for i in range(2,int(n**0.5)+1):\n",
    "        if n%i==0:\n",
    "            return False\n",
    "    return True\n",
    "\n",
    "for i in range(1, 101):\n",
    "    if is_prime(i):\n",
    "        print(i, end=\" \")"
   ]
  },
  {
   "cell_type": "markdown",
   "id": "47682f71",
   "metadata": {},
   "source": [
    "Problem:\n",
    "\n",
    "Given a 2D list (matrix) of integers, write a list comprehension to create a new list containing the squares of all even numbers from the matrix."
   ]
  },
  {
   "cell_type": "code",
   "execution_count": null,
   "id": "968a03d7",
   "metadata": {},
   "outputs": [
    {
     "name": "stdout",
     "output_type": "stream",
     "text": [
      "[4, 16, 36, 64]\n",
      "[4, 16, 36, 64]\n"
     ]
    }
   ],
   "source": [
    "matrix = [\n",
    "    [1, 2, 3],\n",
    "    [4, 5, 6],\n",
    "    [7, 8, 9]\n",
    "]\n",
    "\n",
    "even_squares = [x**2 for row in matrix for x in row if x % 2 == 0]\n",
    "print(even_squares)\n",
    "\n",
    "\n",
    "# even_squares = []\n",
    "\n",
    "# for row in matrix:\n",
    "#     for x in row:\n",
    "#         if x % 2 == 0:\n",
    "#             even_squares.append(x ** 2)\n",
    "\n",
    "# print(even_squares)\n"
   ]
  },
  {
   "cell_type": "markdown",
   "id": "3a962d14",
   "metadata": {},
   "source": [
    "Problem:\n",
    "\n",
    "Given a list of integers, write a list comprehension that replaces each negative number with 0 and keeps positive numbers unchanged."
   ]
  },
  {
   "cell_type": "code",
   "execution_count": 31,
   "id": "f9e215d3",
   "metadata": {},
   "outputs": [
    {
     "name": "stdout",
     "output_type": "stream",
     "text": [
      "[5, 0, 3, 0, 0, 7]\n"
     ]
    }
   ],
   "source": [
    "numbers = [5, -1, 3, -2, 0, 7]\n",
    "\n",
    "coutzero =[]\n",
    "\n",
    "for i in numbers:\n",
    "    if i >=0:\n",
    "        coutzero.append(i)\n",
    "    else:\n",
    "        coutzero.append(0)\n",
    "\n",
    "print(coutzero)\n",
    "\n",
    "\n",
    "\n",
    "\n",
    "\n",
    "# numbers = [5, -1, 3, -2, 0, 7]\n",
    "# non_negative = []\n",
    "\n",
    "# for x in numbers:\n",
    "#     if x >= 0:\n",
    "#         non_negative.append(x)\n",
    "#     else:\n",
    "#         non_negative.append(0)\n",
    "\n",
    "# print(non_negative)\n",
    "\n",
    "\n"
   ]
  },
  {
   "cell_type": "markdown",
   "id": "4946f5f0",
   "metadata": {},
   "source": [
    "## Classes, Inheritance, Magic Methods\n",
    "\n",
    "Define a base class Character that encapsulates the attributes name and health.\n",
    "\n",
    "Implement a derived class Warrior that extends Character and introduces an additional attribute strength.\n",
    "\n",
    "Override the __str__ magic method in both classes to provide a meaningful string representation of their respective objects.\n",
    "\n",
    "Demonstrate runtime polymorphism by instantiating objects of both classes and invoking the overridden __str__ method.\n",
    "\n"
   ]
  },
  {
   "cell_type": "code",
   "execution_count": 3,
   "id": "b3109d30",
   "metadata": {},
   "outputs": [
    {
     "name": "stdout",
     "output_type": "stream",
     "text": [
      "[character] Name: Ansh,Health :120\n"
     ]
    }
   ],
   "source": [
    "# for question 1 \n",
    "class character:\n",
    "    def __init__(self, name: str, health: str):\n",
    "        self.name = name \n",
    "        self.health = health \n",
    "\n",
    "    def __str__(self) -> str:\n",
    "        return f\"[character] Name: {self.name},Health :{self.health}\"\n",
    "    \n",
    "#we need to create a object for it like \n",
    "char = character(\"Ansh\", 120 )\n",
    "print(char)"
   ]
  },
  {
   "cell_type": "code",
   "execution_count": 5,
   "id": "e0893ef3",
   "metadata": {},
   "outputs": [
    {
     "name": "stdout",
     "output_type": "stream",
     "text": [
      "warrrior Name:Ansh Sharma,Health:120 and the strenght of Ansh Sharma is Data Scientist Specalist\n"
     ]
    }
   ],
   "source": [
    "# for question 2 \n",
    "class Warrior:\n",
    "    def __init__(self, name: str, health : int , strength : str):\n",
    "\n",
    "        self.name= name\n",
    "        self.health = health\n",
    "        self.strenght = strength\n",
    "\n",
    "    def __str__(self)-> str:\n",
    "        return f\"warrrior Name:{self.name},Health:{self.health} and the strenght of {self.name} is {self.strenght}\"\n",
    "    \n",
    "\n",
    "# create a object\n",
    "stren = Warrior(\"Ansh Sharma\", 120, \"Data Scientist Specalist\" )\n",
    "print(stren)"
   ]
  },
  {
   "cell_type": "code",
   "execution_count": 7,
   "id": "70b918f2",
   "metadata": {},
   "outputs": [
    {
     "name": "stdout",
     "output_type": "stream",
     "text": [
      "[character] Name: Elden,Health :120\n",
      "warrrior Name:Ragnar,Health:200 and the strenght of Ragnar is 75\n"
     ]
    }
   ],
   "source": [
    "def display_character_info(character):\n",
    "    print(character)\n",
    "\n",
    "#Object instantiation\n",
    "c1 = character(\"Elden\", 120)\n",
    "w1 = Warrior(\"Ragnar\", 200, 75)\n",
    "\n",
    "# Polymorphism in action\n",
    "display_character_info(c1)  # Uses Character.__str__\n",
    "display_character_info(w1)  # Uses Warrior.__str__"
   ]
  },
  {
   "cell_type": "code",
   "execution_count": null,
   "id": "00884e0f",
   "metadata": {},
   "outputs": [],
   "source": []
  }
 ],
 "metadata": {
  "kernelspec": {
   "display_name": "Python 3",
   "language": "python",
   "name": "python3"
  },
  "language_info": {
   "codemirror_mode": {
    "name": "ipython",
    "version": 3
   },
   "file_extension": ".py",
   "mimetype": "text/x-python",
   "name": "python",
   "nbconvert_exporter": "python",
   "pygments_lexer": "ipython3",
   "version": "3.11.3"
  }
 },
 "nbformat": 4,
 "nbformat_minor": 5
}
